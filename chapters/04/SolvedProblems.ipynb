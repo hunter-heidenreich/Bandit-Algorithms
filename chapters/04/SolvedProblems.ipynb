{
 "cells": [
  {
   "cell_type": "code",
   "execution_count": 80,
   "metadata": {},
   "outputs": [],
   "source": [
    "import random\n",
    "\n",
    "import numpy as np\n",
    "import matplotlib.pyplot as plt\n",
    "\n",
    "from tqdm import tqdm"
   ]
  },
  {
   "cell_type": "markdown",
   "metadata": {},
   "source": [
    "## Problem 4.7 (Bernoulli Environment Implementation)\n",
    "\n",
    "Implement a Bernoulli bandit environment in Python using the code snippet given in the text."
   ]
  },
  {
   "cell_type": "code",
   "execution_count": 50,
   "metadata": {},
   "outputs": [],
   "source": [
    "class BernoulliBandit:\n",
    "    \n",
    "    # accepts a list of K >= 2 floats, each lying in [0, 1]\n",
    "    def __init__(self, means):\n",
    "        # assert that we have defined at least two arms\n",
    "        assert (len(means) >= 2)\n",
    "        \n",
    "        # assert that our means fall in the proper range\n",
    "        for m in means:\n",
    "            assert (0 <= m <= 1)\n",
    "        \n",
    "        self._means = means\n",
    "        \n",
    "        self._regret = 0\n",
    "        self._t = 0\n",
    "        \n",
    "        self._opt = max(means)\n",
    "    \n",
    "    # Function should return the number of arms\n",
    "    def K(self):\n",
    "        return len(self._means)\n",
    "    \n",
    "    # Accepts a parameter 0 <= a <= K-1 and returns the \n",
    "    # realization of random variable X with P(X = 1) being \n",
    "    # the mean of the (a+1)th arm.\n",
    "    def pull(self, a):\n",
    "        # assert that the arm selection is in the proper bounds\n",
    "        assert (0 <= a < self.K())\n",
    "        \n",
    "        realized = 1 if random.random() <= self._means[a] else 0\n",
    "        \n",
    "        # increase pseudo-regret\n",
    "        self._regret += self._opt - self._means[a]\n",
    "        \n",
    "        return realized\n",
    "    \n",
    "    # Returns the regret incurred so far.\n",
    "    def regret(self):\n",
    "        return self._regret"
   ]
  },
  {
   "cell_type": "code",
   "execution_count": 24,
   "metadata": {},
   "outputs": [
    {
     "name": "stdout",
     "output_type": "stream",
     "text": [
      "This bandit has 2 arms\n",
      "0\n",
      "1\n",
      "Current regret: 0.8\n"
     ]
    }
   ],
   "source": [
    "# normal bandit\n",
    "bandit = BernoulliBandit((0.1, 0.9))\n",
    "\n",
    "# too few arms\n",
    "# BernoulliBandit((0.1,))\n",
    "\n",
    "# incorrect range\n",
    "# BernoulliBandit((1.3, 0.3))\n",
    "\n",
    "print(f'This bandit has {bandit.K()} arms')\n",
    "\n",
    "# outside range\n",
    "# bandit.pull(-1)\n",
    "\n",
    "print(bandit.pull(0))\n",
    "print(bandit.pull(1))\n",
    "\n",
    "print(f'Current regret: {bandit.regret()}')"
   ]
  },
  {
   "cell_type": "markdown",
   "metadata": {},
   "source": [
    "## Problem 4.8 (Follow-The-Leader Implementation)\n",
    "\n",
    "Implement the following simple algorithm called 'follow-the-leader', which chooses each action once and subsequently chooses the action with the largest average observed so far. Ties should be broken randomly."
   ]
  },
  {
   "cell_type": "code",
   "execution_count": 67,
   "metadata": {},
   "outputs": [],
   "source": [
    "def FollowTheLeader(bandit, n):\n",
    "    # amount of times the arm has been pulled thus far\n",
    "    cnts = [0 for i in range(bandit.K())]\n",
    "    \n",
    "    # realized reward thus far\n",
    "    rwds = [0 for i in range(bandit.K())]\n",
    "    \n",
    "    for t in range(n):\n",
    "        if t < bandit.K():\n",
    "            cnts[t] += 1\n",
    "            rwds[t] += bandit.pull(t)\n",
    "        else:\n",
    "            sel = -1\n",
    "            mx = -1\n",
    "            for k in range(bandit.K()):\n",
    "                if (rwds[k] / cnts[k]) > mx:\n",
    "                    mx = rwds[k] / cnts[k]\n",
    "                    sel = k\n",
    "                elif (rwds[k] / cnts[k]) == mx and random.random() >= 0.5:\n",
    "                    # randomly break ties with a coin-flip\n",
    "                    sel = k\n",
    "\n",
    "            # play leading arm\n",
    "            cnts[sel] += 1\n",
    "            rwds[sel] += bandit.pull(sel)\n",
    "            \n",
    "    return bandit.regret()  # , n * bandit._opt - sum(rwds)"
   ]
  },
  {
   "cell_type": "code",
   "execution_count": 71,
   "metadata": {},
   "outputs": [
    {
     "data": {
      "text/plain": [
       "1.6"
      ]
     },
     "execution_count": 71,
     "metadata": {},
     "output_type": "execute_result"
    }
   ],
   "source": [
    "# print the psuedo-regret incurred by a bandit using the FTL algorithm\n",
    "\n",
    "means = [0.5, 0.9]\n",
    "n = 100\n",
    "bandit = BernoulliBandit(means)\n",
    "\n",
    "FollowTheLeader(bandit, n)"
   ]
  },
  {
   "cell_type": "markdown",
   "metadata": {},
   "source": [
    "## Problem 4.11 (Failure of Follow-The-Leader (I)) \n",
    "\n",
    "Consider a Bernoulli bandit with two arms and means $\\mu_1=0.5$ and $\\mu_2 = 0.6$.\n",
    "\n",
    "- (a) Using a horizon of $n=100$, run 1000 simulations of your implementation of follow-the-leader on the Bernoulli bandit above and record the (random) psuedo regret, $n\\mu^{*} - \\sum_{t=1}^{n}\\mu_{A_t}$, in eah simulation.\n",
    "- (b) Plot the results using a histogram. Your figure should resemble Fig. 4.2.\n",
    "- (c) Explain the results in the figure."
   ]
  },
  {
   "cell_type": "code",
   "execution_count": 72,
   "metadata": {},
   "outputs": [
    {
     "name": "stderr",
     "output_type": "stream",
     "text": [
      "100%|██████████| 1000/1000 [00:00<00:00, 3632.31it/s]\n"
     ]
    }
   ],
   "source": [
    "# Part (a)\n",
    "n = 100\n",
    "regs = [FollowTheLeader(BernoulliBandit((0.5, 0.6)), n) for _ in tqdm(range(1000))]"
   ]
  },
  {
   "cell_type": "code",
   "execution_count": 74,
   "metadata": {},
   "outputs": [
    {
     "data": {
      "text/plain": [
       "[9.89999999999998,\n",
       " 9.89999999999998,\n",
       " 0.09999999999999998,\n",
       " 0.19999999999999996,\n",
       " 8.999999999999984,\n",
       " 0.19999999999999996,\n",
       " 1.0999999999999996,\n",
       " 0.09999999999999998,\n",
       " 0.09999999999999998,\n",
       " 9.89999999999998]"
      ]
     },
     "execution_count": 74,
     "metadata": {},
     "output_type": "execute_result"
    }
   ],
   "source": [
    "# preview 10 rounds\n",
    "regs[:10]"
   ]
  },
  {
   "cell_type": "code",
   "execution_count": 77,
   "metadata": {},
   "outputs": [
    {
     "data": {
      "text/plain": [
       "(array([586.,  29.,  11.,   7.,   4.,   3.,   3.,   5.,   9., 343.]),\n",
       " array([0.1 , 1.08, 2.06, 3.04, 4.02, 5.  , 5.98, 6.96, 7.94, 8.92, 9.9 ]),\n",
       " <BarContainer object of 10 artists>)"
      ]
     },
     "execution_count": 77,
     "metadata": {},
     "output_type": "execute_result"
    },
    {
     "data": {
      "image/png": "[encoded data removed]",
      "text/plain": [
       "<Figure size 432x288 with 1 Axes>"
      ]
     },
     "metadata": {
      "needs_background": "light"
     },
     "output_type": "display_data"
    }
   ],
   "source": [
    "# Part (b)\n",
    "plt.hist(regs, bins=10)"
   ]
  },
  {
   "cell_type": "markdown",
   "metadata": {},
   "source": [
    "## Problem 4.12 (Failure of Follow-The-Leader (II))\n",
    "\n",
    "Consider the same Bernoulli bandit as in (4.11). \n",
    "\n",
    "- (a) Run 1000 simulations of your implementation of follow-the-leader for each horizon $n \\in \\{100, 200, 300, ..., 1000\\}$.\n",
    "- (b) Plot the average regret obtained as a function of $n$. Because the average regret is an estimator of the expected regret, you should generally include error bars to indicate the uncertainty in the estimation.\n",
    "- (c) Explain the plot. Do you think follow-the-leader is a good algorithm? Why or why not?"
   ]
  },
  {
   "cell_type": "code",
   "execution_count": 79,
   "metadata": {},
   "outputs": [
    {
     "name": "stderr",
     "output_type": "stream",
     "text": [
      "100%|██████████| 1000/1000 [00:00<00:00, 3199.50it/s]\n",
      "100%|██████████| 1000/1000 [00:00<00:00, 2552.08it/s]\n",
      "100%|██████████| 1000/1000 [00:00<00:00, 1713.71it/s]\n",
      "100%|██████████| 1000/1000 [00:00<00:00, 1279.12it/s]\n",
      "100%|██████████| 1000/1000 [00:00<00:00, 1039.84it/s]\n",
      "100%|██████████| 1000/1000 [00:01<00:00, 796.88it/s]\n",
      "100%|██████████| 1000/1000 [00:01<00:00, 685.74it/s]\n",
      "100%|██████████| 1000/1000 [00:01<00:00, 621.92it/s]\n",
      "100%|██████████| 1000/1000 [00:01<00:00, 554.44it/s]\n",
      "100%|██████████| 1000/1000 [00:02<00:00, 478.87it/s]\n"
     ]
    }
   ],
   "source": [
    "# Part (a)\n",
    "ns = list(range(100, 1100, 100))\n",
    "\n",
    "# a dictionary mapping from (horizon -> regret list)\n",
    "sims = {}\n",
    "\n",
    "for n in ns:\n",
    "    sims[n] = [FollowTheLeader(BernoulliBandit((0.5, 0.6)), n) for _ in tqdm(range(1000))]"
   ]
  },
  {
   "cell_type": "code",
   "execution_count": 85,
   "metadata": {},
   "outputs": [
    {
     "data": {
      "text/plain": [
       "<ErrorbarContainer object of 3 artists>"
      ]
     },
     "execution_count": 85,
     "metadata": {},
     "output_type": "execute_result"
    },
    {
     "data": {
      "image/png": "[encoded data removed]",
      "text/plain": [
       "<Figure size 432x288 with 1 Axes>"
      ]
     },
     "metadata": {
      "needs_background": "light"
     },
     "output_type": "display_data"
    }
   ],
   "source": [
    "# Part (b)\n",
    "\n",
    "xs = []\n",
    "ys = []\n",
    "es = []\n",
    "\n",
    "for (x, y) in sorted(sims.items(), key=lambda kv: kv[0]):\n",
    "    xs.append(x)\n",
    "    ys.append(np.average(y))\n",
    "    es.append(np.std(y) / np.sqrt(len(y)))\n",
    "    \n",
    "plt.errorbar(xs, ys, yerr=es)"
   ]
  },
  {
   "cell_type": "code",
   "execution_count": null,
   "metadata": {},
   "outputs": [],
   "source": []
  }
 ],
 "metadata": {
  "kernelspec": {
   "display_name": "Python 3",
   "language": "python",
   "name": "python3"
  },
  "language_info": {
   "codemirror_mode": {
    "name": "ipython",
    "version": 3
   },
   "file_extension": ".py",
   "mimetype": "text/x-python",
   "name": "python",
   "nbconvert_exporter": "python",
   "pygments_lexer": "ipython3",
   "version": "3.7.6"
  }
 },
 "nbformat": 4,
 "nbformat_minor": 4
}
