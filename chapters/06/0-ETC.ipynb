{
 "cells": [
  {
   "cell_type": "markdown",
   "metadata": {},
   "source": [
    "# The Explore-Then-Commit (ETC) Algorithm\n",
    "\n",
    "This algorithm is characterized by a pre-defined parameter, $m$, which denotes the number of times the learner will explore each arm. \n",
    "\n",
    "For some $m$: $1 \\leq m \\leq n/k$, where $n$ is the time horizon and $k$ is the number of actions,\n",
    "the ETC algorithm will round-robin explore every arm $m$ times. \n",
    "\n",
    "This algorithm is fairly straightforward. It simply explores each arm $m$ times, estimating the mean iteratively.\n",
    "When the exploration period ends, an ETC learner simply selects the action with the highest estimated mean for the remainder of the rounds.\n",
    "\n",
    "Theorem 6.1 gives us the following bound on the regret:\n",
    "\n",
    "$$\n",
    "R_n \\leq m \\sum_{i=1}^{k} \\Delta_i + (n - mk)\\sum_{i=1}^{k} \\Delta_i e^{-\\frac{m\\Delta_i^2}{4}}\n",
    "$$\n",
    "\n",
    "The first portion of this bound gives the regret incurred by necessarily exploring every arm $m$ times. A learner will suffer the suboptimality gap for each of these exploration choices. \n",
    "\n",
    "The second portion of this bound gives the regret that is expected due to the probability of mis-selecting the optimal arm. \n",
    "At a very high-level, this term estimates how likely it is to select a sub-optimal arm, accounting for the fact that if the sub-optimality gap is smaller, then it is more likely that a learner will select the wrong arm. "
   ]
  },
  {
   "cell_type": "markdown",
   "metadata": {},
   "source": [
    "### Bounds for the k=2 Case\n",
    "\n",
    "For the $k=2$ case, the previously mentioned bound simplifies into:\n",
    "\n",
    "$$\n",
    "R_n \\leq m\\Delta + n\\Delta e^{-\\frac{m\\Delta^2}{4}}\n",
    "$$\n",
    "\n",
    "where $\\Delta$ is the difference between the optimal and sub-optimal arm.\n",
    "\n",
    "The text mentions that for large $n$, the optimal choice for $m$ is: \n",
    "\n",
    "$$\n",
    "m = \\max{\\{1, \\lceil \\frac{4}{\\Delta^2}\\log{(\\frac{n\\Delta^2}{4})} \\rceil\\}}\n",
    "$$\n",
    "\n",
    "which then transforms the bound into:\n",
    "\n",
    "$$\n",
    "R_n \\leq \\min{\\{n\\Delta, \\Delta + \\frac{4}{\\Delta}(1 + \\max{\\{0, \\log{(\\frac{n \\Delta^2}{4})}\\}})\\}}\n",
    "$$\n",
    "\n",
    "This could be interesting to test and play around with!"
   ]
  },
  {
   "cell_type": "code",
   "execution_count": 1,
   "metadata": {},
   "outputs": [],
   "source": [
    "import math\n",
    "import random\n",
    "import statistics\n",
    "\n",
    "from abc import ABC, abstractmethod\n",
    "\n",
    "import matplotlib.pyplot as plt\n",
    "\n",
    "from tqdm import tqdm"
   ]
  },
  {
   "cell_type": "code",
   "execution_count": 2,
   "metadata": {},
   "outputs": [],
   "source": [
    "class BanditArm(ABC):\n",
    "    \n",
    "    \"\"\"\n",
    "    Abstract class for a bandit arm.\n",
    "    A bandit arm should provide a method \n",
    "    called raw that corresponds to drawing that arm.\n",
    "    It should return the reward signal\n",
    "    \"\"\"\n",
    "    \n",
    "    @abstractmethod\n",
    "    def draw(self):\n",
    "        pass"
   ]
  },
  {
   "cell_type": "code",
   "execution_count": 3,
   "metadata": {},
   "outputs": [
    {
     "name": "stdout",
     "output_type": "stream",
     "text": [
      "Drawing a Bernoulli Arm: 1\n",
      "Bernoulli Arm: mu=0.5\n"
     ]
    }
   ],
   "source": [
    "class BernoulliArm(BanditArm):\n",
    "    \n",
    "    \"\"\"\n",
    "    A concrete instantiation of a BanditArm class.\n",
    "    Here, the arm supplies a 0/1 reward based on a \n",
    "    Bernoulli distribution.\n",
    "    The property, mu, determines \n",
    "    the probability of this reward draw for a given arm.\n",
    "    \"\"\"\n",
    "    \n",
    "    def __init__(self, mu=0.5):\n",
    "        self._mu = mu\n",
    "        \n",
    "    def draw(self):\n",
    "        r = random.random()\n",
    "        return 1 if r <= self._mu else 0\n",
    "    \n",
    "    def display(self):\n",
    "        print(f'Bernoulli Arm: mu={self._mu}')\n",
    "    \n",
    "arm = BernoulliArm(0.5)\n",
    "reward = arm.draw()\n",
    "\n",
    "print('Drawing a Bernoulli Arm:', reward)\n",
    "arm.display()"
   ]
  },
  {
   "cell_type": "code",
   "execution_count": 4,
   "metadata": {},
   "outputs": [
    {
     "name": "stdout",
     "output_type": "stream",
     "text": [
      "Drawing a Gaussian arm: 0.0813468511075694\n",
      "GaussianArm: mean=0.3, std. dev=1\n"
     ]
    }
   ],
   "source": [
    "class GaussianArm(BanditArm):\n",
    "    \n",
    "    \"\"\"\n",
    "    A concrete instantiation of a BanditArm class.\n",
    "    Here, the arm supplies a real number reward\n",
    "    based on a Gaussian/normal distribution.\n",
    "    \"\"\"\n",
    "    \n",
    "    def __init__(self, mu=0, sigma=1):\n",
    "        self._mu = mu\n",
    "        self._sigma = sigma\n",
    "        \n",
    "    def draw(self):\n",
    "        return random.gauss(self._mu, self._sigma)\n",
    "    \n",
    "    def display(self):\n",
    "        print(f'GaussianArm: mean={self._mu}, std. dev={self._sigma}')\n",
    "        \n",
    "arm = GaussianArm(mu=0.3)\n",
    "reward = arm.draw()\n",
    "\n",
    "print('Drawing a Gaussian arm:', reward)\n",
    "arm.display()"
   ]
  },
  {
   "cell_type": "code",
   "execution_count": 5,
   "metadata": {},
   "outputs": [],
   "source": [
    "class Bandit:\n",
    "    \"\"\"\n",
    "    A class representing a k-armed bandit.\n",
    "\n",
    "    When instantiating, one has the option to \n",
    "    supply a list of arms or to add arms later\n",
    "    through the add arm method.\n",
    "    \"\"\"\n",
    "    \n",
    "    def __init__(self, arms=None):\n",
    "        if not arms:\n",
    "            arms = []\n",
    "            \n",
    "        self._arms = arms\n",
    "    \n",
    "    def add_arm(self, arm):\n",
    "        \"\"\"\n",
    "        Adds an instantiated arm to \n",
    "        the bandit\n",
    "        \"\"\"\n",
    "        self._arms.append(arm)\n",
    "        \n",
    "    def get_arm_count(self):\n",
    "        return len(self._arms)\n",
    "    \n",
    "    def draw_arm(self, k=0):\n",
    "        \"\"\"\n",
    "        For a specified k, \n",
    "        draws the k-th arm and\n",
    "        returns its reward\n",
    "        \"\"\"\n",
    "        reward = self._arms[k].draw()\n",
    "        return reward\n",
    "    \n",
    "    def display(self):\n",
    "        print(f'{self.get_arm_count()}-armed bandit')\n",
    "        for arm in self._arms:\n",
    "            arm.display()"
   ]
  },
  {
   "cell_type": "code",
   "execution_count": 6,
   "metadata": {},
   "outputs": [
    {
     "name": "stdout",
     "output_type": "stream",
     "text": [
      "2-armed bandit\n",
      "GaussianArm: mean=0, std. dev=1\n",
      "GaussianArm: mean=-0.5, std. dev=1\n"
     ]
    }
   ],
   "source": [
    "def build_two_gaussian(delta=0.5):\n",
    "    \"\"\"\n",
    "    Helper function that builds a two-armed\n",
    "    Gaussian bandit with a suboptimality gap \n",
    "    of 0.5 (by default, can be changed).\n",
    "    \"\"\"\n",
    "    return [\n",
    "        GaussianArm(mu=0),\n",
    "        GaussianArm(mu=-delta)\n",
    "    ]\n",
    "\n",
    "bandit = Bandit(build_two_gaussian())\n",
    "bandit.display()"
   ]
  },
  {
   "cell_type": "code",
   "execution_count": 7,
   "metadata": {},
   "outputs": [],
   "source": [
    "class TestAlgorithm(ABC):\n",
    "    \n",
    "    @abstractmethod\n",
    "    def simulate_round(self):\n",
    "        pass\n",
    "    \n",
    "    @abstractmethod \n",
    "    def simulate_step(self, t):\n",
    "        pass"
   ]
  },
  {
   "cell_type": "code",
   "execution_count": 13,
   "metadata": {},
   "outputs": [],
   "source": [
    "class ETCAlgorithm(TestAlgorithm):\n",
    "    \n",
    "    def __init__(self, bandit, m, n=1000, repetitions=10):\n",
    "        self._bandit = bandit \n",
    "        self._m = m\n",
    "        self._n = n\n",
    "        self._reps = repetitions\n",
    "        self._k = self._bandit.get_arm_count()\n",
    "        \n",
    "        # compute \"optimal\" reward\n",
    "        self._opt = self._n * max([arm._mu for arm in bandit._arms])\n",
    "        self._sel = None\n",
    "        \n",
    "        # parameters for estimating arm rewards\n",
    "        self._ts = []\n",
    "        self._us = []\n",
    "        \n",
    "    def init_run(self):\n",
    "        self._sel = None\n",
    "        self._ts = [0 for _ in range(self._k)]\n",
    "        self._us = [0 for _ in range(self._k)]\n",
    "        \n",
    "        \n",
    "    def empirical_regret(self):\n",
    "        regrets = []\n",
    "        for ix in range(self._reps):\n",
    "            self.init_run()\n",
    "            emp = self.simulate_round()\n",
    "            reg = self._opt - emp\n",
    "            regrets.append(reg)\n",
    "        \n",
    "        est = statistics.mean(regrets)\n",
    "        # std = statistics.stdev(regrets)\n",
    "        # print(f'Regret estimate: {est}')\n",
    "        return est\n",
    "        \n",
    "    def simulate_round(self):\n",
    "        empirical = 0\n",
    "        for t in range(self._n):\n",
    "            empirical += self.simulate_step(t)\n",
    "        \n",
    "        return empirical\n",
    "    \n",
    "    def simulate_step(self, t):\n",
    "        if t <= self._m * self._k:\n",
    "            # explore the actions m-times\n",
    "            at = t % self._k\n",
    "            reward = self._bandit.draw_arm(at)\n",
    "\n",
    "            # update action counts\n",
    "            self._ts[at] += 1\n",
    "            \n",
    "            # update average iteratively\n",
    "            self._us[at] = self._us[at] + ((reward - self._us[at]) / self._ts[at])\n",
    "        else:\n",
    "            if not self._sel:\n",
    "                best = -1\n",
    "                best_val = -100000\n",
    "                for ix, val in enumerate(self._us):\n",
    "                    if val > best_val:\n",
    "                        best_val = val\n",
    "                        best = ix\n",
    "\n",
    "                self._sel = best\n",
    "            \n",
    "            reward = self._bandit.draw_arm(self._sel)\n",
    "\n",
    "        return reward\n",
    "            "
   ]
  },
  {
   "cell_type": "code",
   "execution_count": 14,
   "metadata": {},
   "outputs": [
    {
     "data": {
      "text/plain": [
       "(50.965227068113855, 22.8670401387526)"
      ]
     },
     "execution_count": 14,
     "metadata": {},
     "output_type": "execute_result"
    }
   ],
   "source": [
    "def two_arm_bound(n, delta, m=None):\n",
    "    \n",
    "    \"\"\"\n",
    "    If m is supplied, this bound corresponds to \n",
    "    Equation 6.4 in the text. \n",
    "    This bound will then represent for arbitrary\n",
    "    m, what the expected worst-case regret is.\n",
    "    \n",
    "    If m is not supplied, it is assumed that \n",
    "    Equation 6.5 is being used to select m.\n",
    "    In that case, this function returns the bound\n",
    "    from Equation 6.6.\n",
    "    \"\"\"\n",
    "    \n",
    "    if m:\n",
    "        return m * delta + n * delta * math.exp(-0.25 * m * (delta ** 2))\n",
    "    else:\n",
    "        return min(n * delta, delta + (4/delta)*(1 + max(0, math.log10((n * delta**2) / 4))))\n",
    "\n",
    "n = 1000\n",
    "m = 0.1 * n\n",
    "\n",
    "two_arm_bound(n, 0.5, m=m), two_arm_bound(n, 0.5)"
   ]
  },
  {
   "cell_type": "code",
   "execution_count": 15,
   "metadata": {},
   "outputs": [
    {
     "data": {
      "text/plain": [
       "29"
      ]
     },
     "execution_count": 15,
     "metadata": {},
     "output_type": "execute_result"
    }
   ],
   "source": [
    "def two_arm_m(n, delta):\n",
    "    \"\"\"\n",
    "    Returns the suggested m\n",
    "    for the ETC algorithm,\n",
    "    given that this is a two-armed \n",
    "    bandit problem.\n",
    "    This suggestion comes from Equation 6.5.\n",
    "    \"\"\"\n",
    "    return max(1, math.ceil((4 / (delta ** 2)) * math.log10((n * delta ** 2) / 4)))\n",
    "\n",
    "two_arm_m(1000, 0.5)"
   ]
  },
  {
   "cell_type": "code",
   "execution_count": 19,
   "metadata": {},
   "outputs": [
    {
     "name": "stderr",
     "output_type": "stream",
     "text": [
      "100%|██████████| 99/99 [37:12<00:00, 22.55s/it]\n"
     ]
    },
    {
     "data": {
      "image/png": "[encoded data removed]",
      "text/plain": [
       "<Figure size 432x288 with 1 Axes>"
      ]
     },
     "metadata": {
      "needs_background": "light"
     },
     "output_type": "display_data"
    }
   ],
   "source": [
    "## Replicating Experiment 6.1 in the text\n",
    "\n",
    "n = 1000\n",
    "points = 100\n",
    "\n",
    "xs = []\n",
    "us = []\n",
    "ys = []\n",
    "\n",
    "for ix in tqdm(range(1, points)):\n",
    "    gap = ix / points\n",
    "    \n",
    "    m = two_arm_m(n, gap)\n",
    "    bandit = Bandit(build_two_gaussian(delta=gap))\n",
    "    etc = ETCAlgorithm(bandit, m, n=n, repetitions=10**4)\n",
    "    \n",
    "    upper = two_arm_bound(n, gap)\n",
    "    empir = etc.empirical_regret()\n",
    "    \n",
    "    # tracking for graphing\n",
    "    xs.append(gap)\n",
    "    us.append(upper)\n",
    "    ys.append(empir)\n",
    "\n",
    "plt.scatter(xs, us, marker='x')\n",
    "plt.scatter(xs, ys)\n",
    "plt.show()"
   ]
  },
  {
   "cell_type": "code",
   "execution_count": null,
   "metadata": {},
   "outputs": [],
   "source": []
  }
 ],
 "metadata": {
  "kernelspec": {
   "display_name": "Python 3",
   "language": "python",
   "name": "python3"
  },
  "language_info": {
   "codemirror_mode": {
    "name": "ipython",
    "version": 3
   },
   "file_extension": ".py",
   "mimetype": "text/x-python",
   "name": "python",
   "nbconvert_exporter": "python",
   "pygments_lexer": "ipython3",
   "version": "3.7.6"
  }
 },
 "nbformat": 4,
 "nbformat_minor": 4
}
